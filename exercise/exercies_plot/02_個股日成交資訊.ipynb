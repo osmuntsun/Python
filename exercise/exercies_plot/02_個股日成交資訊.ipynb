{
 "cells": [
  {
   "cell_type": "code",
   "execution_count": 1,
   "metadata": {},
   "outputs": [
    {
     "name": "stderr",
     "output_type": "stream",
     "text": [
      "<frozen importlib._bootstrap>:219: RuntimeWarning: numpy.ufunc size changed, may indicate binary incompatibility. Expected 192 from C header, got 216 from PyObject\n"
     ]
    }
   ],
   "source": [
    "# 引進相關套件\n",
    "import requests\n",
    "from io import StringIO\n",
    "import pandas as pd\n",
    "import numpy as np"
   ]
  },
  {
   "cell_type": "code",
   "execution_count": 2,
   "metadata": {},
   "outputs": [],
   "source": [
    "# 資料日期\n",
    "date1 = '20201120'\n",
    "stockNo = '2330'\n",
    "# 網址\n",
    "url= 'https://www.twse.com.tw/exchangeReport/STOCK_DAY?response=csv&date={}&stockNo={}'.format(date1, stockNo)\n"
   ]
  },
  {
   "cell_type": "code",
   "execution_count": 3,
   "metadata": {},
   "outputs": [],
   "source": [
    "# 送出要求，並取得回應資料\n",
    "response = requests.post(url)\n"
   ]
  },
  {
   "cell_type": "code",
   "execution_count": 4,
   "metadata": {},
   "outputs": [
    {
     "name": "stdout",
     "output_type": "stream",
     "text": [
      "\"日期\",\"成交股數\",\"成交金額\",\"開盤價\",\"最高價\",\"最低價\",\"收盤價\",\"漲跌價差\",\"成交筆數\",\r\n",
      "\"109/11/02\",\"34,539,576\",\"14,901,775,161\",\"433.00\",\"435.50\",\"428.00\",\"435.50\",\"+3.50\",\"35,704\",\r\n",
      "\"109/11/03\",\"31,461,727\",\"13,852,498,196\",\"439.50\",\"443.00\",\"438.00\",\"441.00\",\"+5.50\",\"21,031\",\r\n",
      "\"109/11/04\",\"37,929,652\",\"16,969,841,989\",\"444.50\",\"451.50\",\"443.00\",\"450.00\",\"+9.00\",\"30,087\",\r\n",
      "\"109/11/05\",\"36,539,446\",\"16,404,944,484\",\"451.50\",\"451.50\",\"445.50\",\"451.00\",\"+1.00\",\"24,764\",\r\n",
      "\"109/11/06\",\"32,644,190\",\"14,788,989,058\",\"455.00\",\"455.50\",\"450.00\",\"452.50\",\"+1.50\",\"20,999\",\r\n",
      "\"109/11/09\",\"43,415,670\",\"19,865,414,906\",\"458.00\",\"460.00\",\"454.00\",\"458.50\",\"+6.00\",\"27,868\",\r\n",
      "\"109/11/10\",\"36,786,882\",\"16,610,287,996\",\"452.00\",\"454.50\",\"448.50\",\"451.00\",\"-7.50\",\"31,009\",\r\n",
      "\"109/11/11\",\"40,355,804\",\"18,326,545,251\",\"448.50\",\"457.00\",\"448.50\",\"457.00\",\"+6.00\",\"23,150\",\r\n",
      "\"109/11/12\",\"57,993,774\",\"26,690,353,577\",\"463.00\",\"463.50\",\"457.50\",\"458.00\",\"+1.00\",\"28,011\",\r\n",
      "\"109/11/13\",\"31,483,881\",\"14,478,873,331\",\"459.00\",\"462.00\",\"456.50\",\"462.00\",\"+4.00\",\"21,663\",\r\n",
      "\"109/11/16\",\"83,380,911\",\"39,658,459,663\",\"470.00\",\"484.50\",\"469.00\",\"484.00\",\"+22.00\",\"67,363\",\r\n",
      "\"109/11/17\",\"75,763,870\",\"37,446,278,783\",\"502.00\",\"506.00\",\"485.50\",\"485.50\",\"+1.50\",\"68,560\",\r\n",
      "\"109/11/18\",\"56,607,501\",\"27,883,387,314\",\"490.00\",\"497.00\",\"486.50\",\"497.00\",\"+11.50\",\"38,186\",\r\n",
      "\"109/11/19\",\"47,345,316\",\"23,320,435,165\",\"499.00\",\"499.00\",\"490.00\",\"490.00\",\"-7.00\",\"40,198\",\r\n",
      "\"109/11/20\",\"35,242,579\",\"17,191,897,556\",\"486.00\",\"490.00\",\"486.00\",\"488.00\",\"-2.00\",\"30,557\",\r\n"
     ]
    }
   ],
   "source": [
    "clean_data=[]\n",
    "for row in response.text.split('\\n'):\n",
    "    fields=row.split('\",')\n",
    "    if len(fields) == 10 and row[0] != '=':\n",
    "        clean_data.append(row.replace(' ',''))\n",
    "\n",
    "csv_data = \"\\n\".join(clean_data)\n",
    "print(csv_data)"
   ]
  },
  {
   "cell_type": "code",
   "execution_count": 5,
   "metadata": {},
   "outputs": [
    {
     "data": {
      "text/html": [
       "<div>\n",
       "<style scoped>\n",
       "    .dataframe tbody tr th:only-of-type {\n",
       "        vertical-align: middle;\n",
       "    }\n",
       "\n",
       "    .dataframe tbody tr th {\n",
       "        vertical-align: top;\n",
       "    }\n",
       "\n",
       "    .dataframe thead th {\n",
       "        text-align: right;\n",
       "    }\n",
       "</style>\n",
       "<table border=\"1\" class=\"dataframe\">\n",
       "  <thead>\n",
       "    <tr style=\"text-align: right;\">\n",
       "      <th></th>\n",
       "      <th>日期</th>\n",
       "      <th>成交股數</th>\n",
       "      <th>成交金額</th>\n",
       "      <th>開盤價</th>\n",
       "      <th>最高價</th>\n",
       "      <th>最低價</th>\n",
       "      <th>收盤價</th>\n",
       "      <th>漲跌價差</th>\n",
       "      <th>成交筆數</th>\n",
       "      <th>Unnamed: 9</th>\n",
       "    </tr>\n",
       "  </thead>\n",
       "  <tbody>\n",
       "    <tr>\n",
       "      <th>0</th>\n",
       "      <td>109/11/02</td>\n",
       "      <td>34,539,576</td>\n",
       "      <td>14,901,775,161</td>\n",
       "      <td>433.0</td>\n",
       "      <td>435.5</td>\n",
       "      <td>428.0</td>\n",
       "      <td>435.5</td>\n",
       "      <td>3.5</td>\n",
       "      <td>35,704</td>\n",
       "      <td>NaN</td>\n",
       "    </tr>\n",
       "    <tr>\n",
       "      <th>1</th>\n",
       "      <td>109/11/03</td>\n",
       "      <td>31,461,727</td>\n",
       "      <td>13,852,498,196</td>\n",
       "      <td>439.5</td>\n",
       "      <td>443.0</td>\n",
       "      <td>438.0</td>\n",
       "      <td>441.0</td>\n",
       "      <td>5.5</td>\n",
       "      <td>21,031</td>\n",
       "      <td>NaN</td>\n",
       "    </tr>\n",
       "    <tr>\n",
       "      <th>2</th>\n",
       "      <td>109/11/04</td>\n",
       "      <td>37,929,652</td>\n",
       "      <td>16,969,841,989</td>\n",
       "      <td>444.5</td>\n",
       "      <td>451.5</td>\n",
       "      <td>443.0</td>\n",
       "      <td>450.0</td>\n",
       "      <td>9.0</td>\n",
       "      <td>30,087</td>\n",
       "      <td>NaN</td>\n",
       "    </tr>\n",
       "    <tr>\n",
       "      <th>3</th>\n",
       "      <td>109/11/05</td>\n",
       "      <td>36,539,446</td>\n",
       "      <td>16,404,944,484</td>\n",
       "      <td>451.5</td>\n",
       "      <td>451.5</td>\n",
       "      <td>445.5</td>\n",
       "      <td>451.0</td>\n",
       "      <td>1.0</td>\n",
       "      <td>24,764</td>\n",
       "      <td>NaN</td>\n",
       "    </tr>\n",
       "    <tr>\n",
       "      <th>4</th>\n",
       "      <td>109/11/06</td>\n",
       "      <td>32,644,190</td>\n",
       "      <td>14,788,989,058</td>\n",
       "      <td>455.0</td>\n",
       "      <td>455.5</td>\n",
       "      <td>450.0</td>\n",
       "      <td>452.5</td>\n",
       "      <td>1.5</td>\n",
       "      <td>20,999</td>\n",
       "      <td>NaN</td>\n",
       "    </tr>\n",
       "  </tbody>\n",
       "</table>\n",
       "</div>"
      ],
      "text/plain": [
       "          日期        成交股數            成交金額    開盤價    最高價    最低價    收盤價  漲跌價差  \\\n",
       "0  109/11/02  34,539,576  14,901,775,161  433.0  435.5  428.0  435.5   3.5   \n",
       "1  109/11/03  31,461,727  13,852,498,196  439.5  443.0  438.0  441.0   5.5   \n",
       "2  109/11/04  37,929,652  16,969,841,989  444.5  451.5  443.0  450.0   9.0   \n",
       "3  109/11/05  36,539,446  16,404,944,484  451.5  451.5  445.5  451.0   1.0   \n",
       "4  109/11/06  32,644,190  14,788,989,058  455.0  455.5  450.0  452.5   1.5   \n",
       "\n",
       "     成交筆數  Unnamed: 9  \n",
       "0  35,704         NaN  \n",
       "1  21,031         NaN  \n",
       "2  30,087         NaN  \n",
       "3  24,764         NaN  \n",
       "4  20,999         NaN  "
      ]
     },
     "execution_count": 5,
     "metadata": {},
     "output_type": "execute_result"
    }
   ],
   "source": [
    "df = pd.read_csv(StringIO(csv_data))\n",
    "df.head()"
   ]
  },
  {
   "cell_type": "code",
   "execution_count": 6,
   "metadata": {},
   "outputs": [],
   "source": [
    "# 刪除無用的欄位\n",
    "df.drop(df.columns[-1], axis=1, inplace=True)"
   ]
  },
  {
   "cell_type": "code",
   "execution_count": 7,
   "metadata": {},
   "outputs": [
    {
     "name": "stdout",
     "output_type": "stream",
     "text": [
      "<class 'pandas.core.frame.DataFrame'>\n",
      "RangeIndex: 15 entries, 0 to 14\n",
      "Data columns (total 9 columns):\n",
      " #   Column  Non-Null Count  Dtype  \n",
      "---  ------  --------------  -----  \n",
      " 0   日期      15 non-null     object \n",
      " 1   成交股數    15 non-null     object \n",
      " 2   成交金額    15 non-null     object \n",
      " 3   開盤價     15 non-null     float64\n",
      " 4   最高價     15 non-null     float64\n",
      " 5   最低價     15 non-null     float64\n",
      " 6   收盤價     15 non-null     float64\n",
      " 7   漲跌價差    15 non-null     float64\n",
      " 8   成交筆數    15 non-null     object \n",
      "dtypes: float64(5), object(4)\n",
      "memory usage: 1.2+ KB\n"
     ]
    }
   ],
   "source": [
    "df.info()"
   ]
  },
  {
   "cell_type": "code",
   "execution_count": 8,
   "metadata": {},
   "outputs": [
    {
     "name": "stdout",
     "output_type": "stream",
     "text": [
      "<class 'pandas.core.frame.DataFrame'>\n",
      "RangeIndex: 15 entries, 0 to 14\n",
      "Data columns (total 9 columns):\n",
      " #   Column  Non-Null Count  Dtype  \n",
      "---  ------  --------------  -----  \n",
      " 0   日期      15 non-null     object \n",
      " 1   成交股數    15 non-null     int64  \n",
      " 2   成交金額    15 non-null     int64  \n",
      " 3   開盤價     15 non-null     float64\n",
      " 4   最高價     15 non-null     float64\n",
      " 5   最低價     15 non-null     float64\n",
      " 6   收盤價     15 non-null     float64\n",
      " 7   漲跌價差    15 non-null     float64\n",
      " 8   成交筆數    15 non-null     int64  \n",
      "dtypes: float64(5), int64(3), object(1)\n",
      "memory usage: 1.2+ KB\n"
     ]
    }
   ],
   "source": [
    "# 將以下欄位轉為數值\n",
    "numeric_columns=['成交股數','成交金額','成交筆數']\n",
    "for i in numeric_columns:\n",
    "    df[i]=df[i].map(lambda x:x.replace(',', '').replace('--', ''))\n",
    "    df[i]=pd.to_numeric(df[i])\n",
    "df.info()"
   ]
  },
  {
   "cell_type": "code",
   "execution_count": 9,
   "metadata": {},
   "outputs": [],
   "source": [
    "df.to_csv('個股日成交資訊.csv', index=False)"
   ]
  },
  {
   "cell_type": "code",
   "execution_count": 10,
   "metadata": {},
   "outputs": [],
   "source": [
    "df.to_excel('個股日成交資訊.xlsx', index=False)"
   ]
  },
  {
   "cell_type": "code",
   "execution_count": 20,
   "metadata": {},
   "outputs": [],
   "source": [
    "df = pd.read_excel('個股日成交資訊.xlsx')"
   ]
  },
  {
   "cell_type": "code",
   "execution_count": 21,
   "metadata": {},
   "outputs": [
    {
     "data": {
      "text/plain": [
       "0     02\n",
       "1     03\n",
       "2     04\n",
       "3     05\n",
       "4     06\n",
       "5     09\n",
       "6     10\n",
       "7     11\n",
       "8     12\n",
       "9     13\n",
       "10    16\n",
       "11    17\n",
       "12    18\n",
       "13    19\n",
       "14    20\n",
       "Name: 日期1, dtype: object"
      ]
     },
     "execution_count": 21,
     "metadata": {},
     "output_type": "execute_result"
    }
   ],
   "source": [
    "df['日期1']=df['日期'].str.slice(start=-2)\n",
    "df['日期1']"
   ]
  },
  {
   "cell_type": "code",
   "execution_count": 22,
   "metadata": {},
   "outputs": [
    {
     "data": {
      "text/plain": [
       "[<matplotlib.lines.Line2D at 0x28b439f2e80>]"
      ]
     },
     "execution_count": 22,
     "metadata": {},
     "output_type": "execute_result"
    },
    {
     "data": {
      "image/png": "[encoded data removed]",
      "text/plain": [
       "<Figure size 432x288 with 1 Axes>"
      ]
     },
     "metadata": {
      "needs_background": "light"
     },
     "output_type": "display_data"
    }
   ],
   "source": [
    "import matplotlib.pyplot as plt\n",
    "plt.plot(df['日期1'], df['收盤價'])\n"
   ]
  },
  {
   "cell_type": "code",
   "execution_count": null,
   "metadata": {},
   "outputs": [],
   "source": []
  }
 ],
 "metadata": {
  "kernelspec": {
   "display_name": "Python 3",
   "language": "python",
   "name": "python3"
  },
  "language_info": {
   "codemirror_mode": {
    "name": "ipython",
    "version": 3
   },
   "file_extension": ".py",
   "mimetype": "text/x-python",
   "name": "python",
   "nbconvert_exporter": "python",
   "pygments_lexer": "ipython3",
   "version": "3.8.3"
  }
 },
 "nbformat": 4,
 "nbformat_minor": 2
}
